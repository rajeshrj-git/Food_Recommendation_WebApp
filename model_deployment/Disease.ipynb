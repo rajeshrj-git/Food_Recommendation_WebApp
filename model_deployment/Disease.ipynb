{
 "cells": [
  {
   "cell_type": "code",
   "execution_count": 1,
   "metadata": {},
   "outputs": [],
   "source": [
    "import pandas as pd\n",
    "from sklearn.model_selection import train_test_split\n",
    "from sklearn.metrics import accuracy_score, classification_report\n",
    "from sklearn.preprocessing import MultiLabelBinarizer\n",
    "from sklearn.impute import SimpleImputer\n"
   ]
  },
  {
   "cell_type": "code",
   "execution_count": null,
   "metadata": {},
   "outputs": [],
   "source": []
  },
  {
   "cell_type": "code",
   "execution_count": 2,
   "metadata": {},
   "outputs": [],
   "source": [
    "df_heart = pd.read_csv(r\"C:\\Users\\rajes\\Datascience_jp\\Disease-al-datasets\\Heart_Disease_Prediction.csv\")\n",
    "df_diabetes = pd.read_csv(r\"C:\\Users\\rajes\\Datascience_jp\\Disease-al-datasets\\diabetes_new.csv\")\n",
    "df_stroke = pd.read_csv(r\"C:\\Users\\rajes\\Datascience_jp\\Disease-al-datasets\\stroke.csv\")\n",
    "df_fatty_liver = pd.read_csv(r\"C:\\Users\\rajes\\Datascience_jp\\Disease-al-datasets\\fatty_liver.csv\")\n",
    "df_metabolic_syndrome = pd.read_csv(r\"C:\\Users\\rajes\\Datascience_jp\\Disease-al-datasets\\Metabolic Syndrome.csv\")\n",
    "df_hypertension = pd.read_csv(r\"C:\\Users\\rajes\\Datascience_jp\\Disease-al-datasets\\Hypertension_data.csv\")\n"
   ]
  },
  {
   "cell_type": "code",
   "execution_count": 3,
   "metadata": {},
   "outputs": [
    {
     "name": "stdout",
     "output_type": "stream",
     "text": [
      "Warning: Dataset has only 270 rows, sampling all.\n",
      "Merged with Diabetes data.\n",
      "Merged with Stroke data.\n",
      "Merged with Fatty_Liver data.\n"
     ]
    },
    {
     "name": "stderr",
     "output_type": "stream",
     "text": [
      "C:\\Users\\rajes\\AppData\\Local\\Temp\\ipykernel_9856\\1374962927.py:37: UserWarning: You are merging on int and float columns where the float values are not equal to their int representation.\n",
      "  df_combined = pd.merge(df_combined, df_to_merge, how='outer', on='Age', suffixes=('', f'_{df_to_merge.columns[-1]}'))\n",
      "C:\\Users\\rajes\\AppData\\Local\\Temp\\ipykernel_9856\\1374962927.py:37: UserWarning: You are merging on int and float columns where the float values are not equal to their int representation.\n",
      "  df_combined = pd.merge(df_combined, df_to_merge, how='outer', on='Age', suffixes=('', f'_{df_to_merge.columns[-1]}'))\n",
      "C:\\Users\\rajes\\AppData\\Local\\Temp\\ipykernel_9856\\1374962927.py:37: UserWarning: You are merging on int and float columns where the float values are not equal to their int representation.\n",
      "  df_combined = pd.merge(df_combined, df_to_merge, how='outer', on='Age', suffixes=('', f'_{df_to_merge.columns[-1]}'))\n"
     ]
    },
    {
     "name": "stdout",
     "output_type": "stream",
     "text": [
      "Merged with Metabolic_Syndrome data.\n"
     ]
    },
    {
     "name": "stderr",
     "output_type": "stream",
     "text": [
      "C:\\Users\\rajes\\AppData\\Local\\Temp\\ipykernel_9856\\1374962927.py:37: UserWarning: You are merging on int and float columns where the float values are not equal to their int representation.\n",
      "  df_combined = pd.merge(df_combined, df_to_merge, how='outer', on='Age', suffixes=('', f'_{df_to_merge.columns[-1]}'))\n"
     ]
    },
    {
     "name": "stdout",
     "output_type": "stream",
     "text": [
      "Merged with Hypertension data.\n",
      "Final combined DataFrame shape: (12781321, 26)\n",
      "Combined DataFrame saved as 'combined_health_data.pkl'.\n"
     ]
    }
   ],
   "source": [
    "import pandas as pd\n",
    "\n",
    "# Load your datasets with only the required columns\n",
    "def load_data(file_path, use_cols=None):\n",
    "    return pd.read_csv(file_path, usecols=use_cols, dtype={\n",
    "        'Age': 'int8',\n",
    "        'BMI': 'float32',\n",
    "        'Glucose': 'float32',\n",
    "        'BP': 'float32',\n",
    "        'Cholesterol': 'float32',\n",
    "        'Insulin': 'float32',\n",
    "        'Gender': 'category'  # Using category to save memory\n",
    "    })\n",
    "\n",
    "# Function to sample data with a smaller sample size\n",
    "def sample_data(df, n=500):\n",
    "    if len(df) < n:\n",
    "        print(f\"Warning: Dataset has only {len(df)} rows, sampling all.\")\n",
    "        return df  \n",
    "    return df.sample(n=n, random_state=42)\n",
    "\n",
    "# Sample rows from each DataFrame\n",
    "df_heart = sample_data(df_heart)\n",
    "df_diabetes = sample_data(df_diabetes)\n",
    "df_stroke = sample_data(df_stroke)\n",
    "df_fatty_liver = sample_data(df_fatty_liver)\n",
    "df_metabolic_syndrome = sample_data(df_metabolic_syndrome)\n",
    "df_hypertension = sample_data(df_hypertension)\n",
    "\n",
    "# Combine DataFrames carefully\n",
    "df_combined = df_heart.copy()  # Start with heart data\n",
    "\n",
    "# Merge DataFrames step by step, checking memory\n",
    "for df_to_merge in [df_diabetes, df_stroke, df_fatty_liver, df_metabolic_syndrome, df_hypertension]:\n",
    "    # Check memory usage before merge\n",
    "    try:\n",
    "        df_combined = pd.merge(df_combined, df_to_merge, how='outer', on='Age', suffixes=('', f'_{df_to_merge.columns[-1]}'))\n",
    "        print(f\"Merged with {df_to_merge.columns[-1]} data.\")\n",
    "    except MemoryError:\n",
    "        print(\"MemoryError: Unable to merge, skipping this DataFrame.\")\n",
    "        continue\n",
    "\n",
    "# Display the final DataFrame shape\n",
    "print(\"Final combined DataFrame shape:\", df_combined.shape)\n",
    "\n",
    "# Save the combined DataFrame to a compressed pickle file for future use\n",
    "df_combined.to_pickle('combined_health_data.pkl', compression='bz2')\n",
    "print(\"Combined DataFrame saved as 'combined_health_data.pkl'.\")\n"
   ]
  },
  {
   "cell_type": "code",
   "execution_count": 4,
   "metadata": {},
   "outputs": [
    {
     "data": {
      "text/plain": [
       "(12781321, 26)"
      ]
     },
     "execution_count": 4,
     "metadata": {},
     "output_type": "execute_result"
    }
   ],
   "source": [
    "df_combined.shape"
   ]
  },
  {
   "cell_type": "code",
   "execution_count": null,
   "metadata": {},
   "outputs": [],
   "source": []
  },
  {
   "cell_type": "code",
   "execution_count": null,
   "metadata": {},
   "outputs": [],
   "source": []
  },
  {
   "cell_type": "code",
   "execution_count": null,
   "metadata": {},
   "outputs": [],
   "source": []
  },
  {
   "cell_type": "code",
   "execution_count": null,
   "metadata": {},
   "outputs": [],
   "source": []
  },
  {
   "cell_type": "code",
   "execution_count": null,
   "metadata": {},
   "outputs": [],
   "source": []
  },
  {
   "cell_type": "code",
   "execution_count": 12,
   "metadata": {},
   "outputs": [
    {
     "name": "stdout",
     "output_type": "stream",
     "text": [
      "Loaded DataFrame shape: (12781321, 26)\n"
     ]
    },
    {
     "name": "stderr",
     "output_type": "stream",
     "text": [
      "c:\\Users\\rajes\\AppData\\Local\\Programs\\Python\\Python312\\Lib\\site-packages\\sklearn\\model_selection\\_search.py:320: UserWarning: The total space of parameters 8 is smaller than n_iter=10. Running 8 iterations. For exhaustive searches, use GridSearchCV.\n",
      "  warnings.warn(\n"
     ]
    },
    {
     "name": "stdout",
     "output_type": "stream",
     "text": [
      "Fitting 3 folds for each of 8 candidates, totalling 24 fits\n"
     ]
    },
    {
     "name": "stderr",
     "output_type": "stream",
     "text": [
      "c:\\Users\\rajes\\AppData\\Local\\Programs\\Python\\Python312\\Lib\\site-packages\\xgboost\\core.py:158: UserWarning: [09:44:16] WARNING: C:\\buildkite-agent\\builds\\buildkite-windows-cpu-autoscaling-group-i-0015a694724fa8361-1\\xgboost\\xgboost-ci-windows\\src\\learner.cc:740: \n",
      "Parameters: { \"verbose\" } are not used.\n",
      "\n",
      "  warnings.warn(smsg, UserWarning)\n",
      "c:\\Users\\rajes\\AppData\\Local\\Programs\\Python\\Python312\\Lib\\site-packages\\xgboost\\core.py:158: UserWarning: [09:47:12] WARNING: C:\\buildkite-agent\\builds\\buildkite-windows-cpu-autoscaling-group-i-0015a694724fa8361-1\\xgboost\\xgboost-ci-windows\\src\\learner.cc:740: \n",
      "Parameters: { \"verbose\" } are not used.\n",
      "\n",
      "  warnings.warn(smsg, UserWarning)\n",
      "c:\\Users\\rajes\\AppData\\Local\\Programs\\Python\\Python312\\Lib\\site-packages\\xgboost\\core.py:158: UserWarning: [09:49:59] WARNING: C:\\buildkite-agent\\builds\\buildkite-windows-cpu-autoscaling-group-i-0015a694724fa8361-1\\xgboost\\xgboost-ci-windows\\src\\learner.cc:740: \n",
      "Parameters: { \"verbose\" } are not used.\n",
      "\n",
      "  warnings.warn(smsg, UserWarning)\n",
      "c:\\Users\\rajes\\AppData\\Local\\Programs\\Python\\Python312\\Lib\\site-packages\\xgboost\\core.py:158: UserWarning: [09:52:49] WARNING: C:\\buildkite-agent\\builds\\buildkite-windows-cpu-autoscaling-group-i-0015a694724fa8361-1\\xgboost\\xgboost-ci-windows\\src\\learner.cc:740: \n",
      "Parameters: { \"verbose\" } are not used.\n",
      "\n",
      "  warnings.warn(smsg, UserWarning)\n",
      "c:\\Users\\rajes\\AppData\\Local\\Programs\\Python\\Python312\\Lib\\site-packages\\xgboost\\core.py:158: UserWarning: [09:58:16] WARNING: C:\\buildkite-agent\\builds\\buildkite-windows-cpu-autoscaling-group-i-0015a694724fa8361-1\\xgboost\\xgboost-ci-windows\\src\\learner.cc:740: \n",
      "Parameters: { \"verbose\" } are not used.\n",
      "\n",
      "  warnings.warn(smsg, UserWarning)\n",
      "c:\\Users\\rajes\\AppData\\Local\\Programs\\Python\\Python312\\Lib\\site-packages\\xgboost\\core.py:158: UserWarning: [10:03:39] WARNING: C:\\buildkite-agent\\builds\\buildkite-windows-cpu-autoscaling-group-i-0015a694724fa8361-1\\xgboost\\xgboost-ci-windows\\src\\learner.cc:740: \n",
      "Parameters: { \"verbose\" } are not used.\n",
      "\n",
      "  warnings.warn(smsg, UserWarning)\n",
      "c:\\Users\\rajes\\AppData\\Local\\Programs\\Python\\Python312\\Lib\\site-packages\\xgboost\\core.py:158: UserWarning: [10:09:06] WARNING: C:\\buildkite-agent\\builds\\buildkite-windows-cpu-autoscaling-group-i-0015a694724fa8361-1\\xgboost\\xgboost-ci-windows\\src\\learner.cc:740: \n",
      "Parameters: { \"verbose\" } are not used.\n",
      "\n",
      "  warnings.warn(smsg, UserWarning)\n",
      "c:\\Users\\rajes\\AppData\\Local\\Programs\\Python\\Python312\\Lib\\site-packages\\xgboost\\core.py:158: UserWarning: [10:12:59] WARNING: C:\\buildkite-agent\\builds\\buildkite-windows-cpu-autoscaling-group-i-0015a694724fa8361-1\\xgboost\\xgboost-ci-windows\\src\\learner.cc:740: \n",
      "Parameters: { \"verbose\" } are not used.\n",
      "\n",
      "  warnings.warn(smsg, UserWarning)\n",
      "c:\\Users\\rajes\\AppData\\Local\\Programs\\Python\\Python312\\Lib\\site-packages\\xgboost\\core.py:158: UserWarning: [10:16:58] WARNING: C:\\buildkite-agent\\builds\\buildkite-windows-cpu-autoscaling-group-i-0015a694724fa8361-1\\xgboost\\xgboost-ci-windows\\src\\learner.cc:740: \n",
      "Parameters: { \"verbose\" } are not used.\n",
      "\n",
      "  warnings.warn(smsg, UserWarning)\n",
      "c:\\Users\\rajes\\AppData\\Local\\Programs\\Python\\Python312\\Lib\\site-packages\\xgboost\\core.py:158: UserWarning: [10:20:49] WARNING: C:\\buildkite-agent\\builds\\buildkite-windows-cpu-autoscaling-group-i-0015a694724fa8361-1\\xgboost\\xgboost-ci-windows\\src\\learner.cc:740: \n",
      "Parameters: { \"verbose\" } are not used.\n",
      "\n",
      "  warnings.warn(smsg, UserWarning)\n",
      "c:\\Users\\rajes\\AppData\\Local\\Programs\\Python\\Python312\\Lib\\site-packages\\xgboost\\core.py:158: UserWarning: [10:28:21] WARNING: C:\\buildkite-agent\\builds\\buildkite-windows-cpu-autoscaling-group-i-0015a694724fa8361-1\\xgboost\\xgboost-ci-windows\\src\\learner.cc:740: \n",
      "Parameters: { \"verbose\" } are not used.\n",
      "\n",
      "  warnings.warn(smsg, UserWarning)\n",
      "c:\\Users\\rajes\\AppData\\Local\\Programs\\Python\\Python312\\Lib\\site-packages\\xgboost\\core.py:158: UserWarning: [10:35:46] WARNING: C:\\buildkite-agent\\builds\\buildkite-windows-cpu-autoscaling-group-i-0015a694724fa8361-1\\xgboost\\xgboost-ci-windows\\src\\learner.cc:740: \n",
      "Parameters: { \"verbose\" } are not used.\n",
      "\n",
      "  warnings.warn(smsg, UserWarning)\n",
      "c:\\Users\\rajes\\AppData\\Local\\Programs\\Python\\Python312\\Lib\\site-packages\\xgboost\\core.py:158: UserWarning: [10:43:22] WARNING: C:\\buildkite-agent\\builds\\buildkite-windows-cpu-autoscaling-group-i-0015a694724fa8361-1\\xgboost\\xgboost-ci-windows\\src\\learner.cc:740: \n",
      "Parameters: { \"verbose\" } are not used.\n",
      "\n",
      "  warnings.warn(smsg, UserWarning)\n",
      "c:\\Users\\rajes\\AppData\\Local\\Programs\\Python\\Python312\\Lib\\site-packages\\xgboost\\core.py:158: UserWarning: [10:46:03] WARNING: C:\\buildkite-agent\\builds\\buildkite-windows-cpu-autoscaling-group-i-0015a694724fa8361-1\\xgboost\\xgboost-ci-windows\\src\\learner.cc:740: \n",
      "Parameters: { \"verbose\" } are not used.\n",
      "\n",
      "  warnings.warn(smsg, UserWarning)\n",
      "c:\\Users\\rajes\\AppData\\Local\\Programs\\Python\\Python312\\Lib\\site-packages\\xgboost\\core.py:158: UserWarning: [10:48:42] WARNING: C:\\buildkite-agent\\builds\\buildkite-windows-cpu-autoscaling-group-i-0015a694724fa8361-1\\xgboost\\xgboost-ci-windows\\src\\learner.cc:740: \n",
      "Parameters: { \"verbose\" } are not used.\n",
      "\n",
      "  warnings.warn(smsg, UserWarning)\n",
      "c:\\Users\\rajes\\AppData\\Local\\Programs\\Python\\Python312\\Lib\\site-packages\\xgboost\\core.py:158: UserWarning: [10:51:25] WARNING: C:\\buildkite-agent\\builds\\buildkite-windows-cpu-autoscaling-group-i-0015a694724fa8361-1\\xgboost\\xgboost-ci-windows\\src\\learner.cc:740: \n",
      "Parameters: { \"verbose\" } are not used.\n",
      "\n",
      "  warnings.warn(smsg, UserWarning)\n",
      "c:\\Users\\rajes\\AppData\\Local\\Programs\\Python\\Python312\\Lib\\site-packages\\xgboost\\core.py:158: UserWarning: [10:56:31] WARNING: C:\\buildkite-agent\\builds\\buildkite-windows-cpu-autoscaling-group-i-0015a694724fa8361-1\\xgboost\\xgboost-ci-windows\\src\\learner.cc:740: \n",
      "Parameters: { \"verbose\" } are not used.\n",
      "\n",
      "  warnings.warn(smsg, UserWarning)\n",
      "c:\\Users\\rajes\\AppData\\Local\\Programs\\Python\\Python312\\Lib\\site-packages\\xgboost\\core.py:158: UserWarning: [11:01:42] WARNING: C:\\buildkite-agent\\builds\\buildkite-windows-cpu-autoscaling-group-i-0015a694724fa8361-1\\xgboost\\xgboost-ci-windows\\src\\learner.cc:740: \n",
      "Parameters: { \"verbose\" } are not used.\n",
      "\n",
      "  warnings.warn(smsg, UserWarning)\n",
      "c:\\Users\\rajes\\AppData\\Local\\Programs\\Python\\Python312\\Lib\\site-packages\\xgboost\\core.py:158: UserWarning: [11:06:52] WARNING: C:\\buildkite-agent\\builds\\buildkite-windows-cpu-autoscaling-group-i-0015a694724fa8361-1\\xgboost\\xgboost-ci-windows\\src\\learner.cc:740: \n",
      "Parameters: { \"verbose\" } are not used.\n",
      "\n",
      "  warnings.warn(smsg, UserWarning)\n",
      "c:\\Users\\rajes\\AppData\\Local\\Programs\\Python\\Python312\\Lib\\site-packages\\xgboost\\core.py:158: UserWarning: [11:10:35] WARNING: C:\\buildkite-agent\\builds\\buildkite-windows-cpu-autoscaling-group-i-0015a694724fa8361-1\\xgboost\\xgboost-ci-windows\\src\\learner.cc:740: \n",
      "Parameters: { \"verbose\" } are not used.\n",
      "\n",
      "  warnings.warn(smsg, UserWarning)\n",
      "c:\\Users\\rajes\\AppData\\Local\\Programs\\Python\\Python312\\Lib\\site-packages\\xgboost\\core.py:158: UserWarning: [11:14:18] WARNING: C:\\buildkite-agent\\builds\\buildkite-windows-cpu-autoscaling-group-i-0015a694724fa8361-1\\xgboost\\xgboost-ci-windows\\src\\learner.cc:740: \n",
      "Parameters: { \"verbose\" } are not used.\n",
      "\n",
      "  warnings.warn(smsg, UserWarning)\n",
      "c:\\Users\\rajes\\AppData\\Local\\Programs\\Python\\Python312\\Lib\\site-packages\\xgboost\\core.py:158: UserWarning: [11:17:57] WARNING: C:\\buildkite-agent\\builds\\buildkite-windows-cpu-autoscaling-group-i-0015a694724fa8361-1\\xgboost\\xgboost-ci-windows\\src\\learner.cc:740: \n",
      "Parameters: { \"verbose\" } are not used.\n",
      "\n",
      "  warnings.warn(smsg, UserWarning)\n",
      "c:\\Users\\rajes\\AppData\\Local\\Programs\\Python\\Python312\\Lib\\site-packages\\xgboost\\core.py:158: UserWarning: [11:24:50] WARNING: C:\\buildkite-agent\\builds\\buildkite-windows-cpu-autoscaling-group-i-0015a694724fa8361-1\\xgboost\\xgboost-ci-windows\\src\\learner.cc:740: \n",
      "Parameters: { \"verbose\" } are not used.\n",
      "\n",
      "  warnings.warn(smsg, UserWarning)\n",
      "c:\\Users\\rajes\\AppData\\Local\\Programs\\Python\\Python312\\Lib\\site-packages\\xgboost\\core.py:158: UserWarning: [11:31:44] WARNING: C:\\buildkite-agent\\builds\\buildkite-windows-cpu-autoscaling-group-i-0015a694724fa8361-1\\xgboost\\xgboost-ci-windows\\src\\learner.cc:740: \n",
      "Parameters: { \"verbose\" } are not used.\n",
      "\n",
      "  warnings.warn(smsg, UserWarning)\n",
      "c:\\Users\\rajes\\AppData\\Local\\Programs\\Python\\Python312\\Lib\\site-packages\\xgboost\\core.py:158: UserWarning: [11:38:34] WARNING: C:\\buildkite-agent\\builds\\buildkite-windows-cpu-autoscaling-group-i-0015a694724fa8361-1\\xgboost\\xgboost-ci-windows\\src\\learner.cc:740: \n",
      "Parameters: { \"verbose\" } are not used.\n",
      "\n",
      "  warnings.warn(smsg, UserWarning)\n"
     ]
    },
    {
     "name": "stdout",
     "output_type": "stream",
     "text": [
      "Best parameters: {'n_estimators': 200, 'max_depth': 5, 'learning_rate': 0.05}\n",
      "MSE: 0.046503002424643176, MAE: 0.10308372242778291, R-squared: 0.5468174815177917\n",
      "Best model saved as 2nd_xgboost_best_model.pkl.\n"
     ]
    }
   ],
   "source": [
    "import pandas as pd\n",
    "from sklearn.impute import SimpleImputer\n",
    "import joblib\n",
    "import xgboost as xgb\n",
    "from xgboost import XGBRegressor\n",
    "from sklearn.model_selection import train_test_split, RandomizedSearchCV\n",
    "from sklearn.metrics import mean_squared_error, mean_absolute_error, r2_score\n",
    "from scipy.sparse import csr_matrix\n",
    "\n",
    "# Load the combined DataFrame from the pickle file\n",
    "print(\"Loaded DataFrame shape:\", df_combined.shape)\n",
    "\n",
    "# Define features and target variables\n",
    "features = ['Age', 'Gender', 'BP', 'Cholesterol', 'Heart Rate', 'Glucose', 'Insulin', 'BMI']\n",
    "target_columns = ['Heart_Disease', 'Diabetes', 'Stroke', 'Fatty_Liver', 'Metabolic_Syndrome', 'Hypertension']\n",
    "\n",
    "# Fill missing values for the features using SimpleImputer\n",
    "imputer = SimpleImputer(strategy='mean')\n",
    "df_combined[features] = imputer.fit_transform(df_combined[features])\n",
    "\n",
    "# Ensure target columns are present; fill missing target values with 0\n",
    "for target in target_columns:\n",
    "    df_combined[target] = df_combined.get(target, 0).fillna(0)\n",
    "\n",
    "# Prepare your features and target variables\n",
    "y = df_combined[target_columns]\n",
    "X = df_combined[features]\n",
    "\n",
    "# Convert features DataFrame to a sparse matrix\n",
    "X_sparse = csr_matrix(X.values)\n",
    "\n",
    "# Split the data into training and testing sets\n",
    "X_train, X_test, y_train, y_test = train_test_split(X_sparse, y, test_size=0.2, random_state=42)\n",
    "\n",
    "# Initialize the XGBoost model\n",
    "xgb_model = XGBRegressor(n_jobs=-1, verbose=True)\n",
    "\n",
    "# Define a smaller parameter grid for RandomizedSearchCV\n",
    "param_dist = {\n",
    "    'n_estimators': [100, 200],  # Reduced from 100, 300, 500 to 100, 200\n",
    "    'learning_rate': [0.01, 0.05],  # Reduced from 0.01, 0.05, 0.1 to 0.01, 0.05\n",
    "    'max_depth': [3, 5],  # Reduced from [3, 5, 7] to [3, 5]\n",
    "}\n",
    "\n",
    "# Set up RandomizedSearchCV for hyperparameter tuning\n",
    "random_search = RandomizedSearchCV(estimator=xgb_model, param_distributions=param_dist, n_iter=10, cv=3,\n",
    "                                   scoring='neg_mean_squared_error', verbose=1, random_state=42)\n",
    "\n",
    "# Fit the model with training data and enable verbosity\n",
    "random_search.fit(X_train, y_train)\n",
    "\n",
    "# Get the best model after tuning\n",
    "best_model = random_search.best_estimator_\n",
    "\n",
    "# Print the best parameters\n",
    "print(f\"Best parameters: {random_search.best_params_}\")\n",
    "\n",
    "# Make predictions on the test set\n",
    "y_pred = best_model.predict(X_test)\n",
    "\n",
    "# Calculate evaluation metrics\n",
    "mse = mean_squared_error(y_test, y_pred)\n",
    "mae = mean_absolute_error(y_test, y_pred)\n",
    "r2 = r2_score(y_test, y_pred)\n",
    "\n",
    "# Print evaluation metrics\n",
    "print(f\"MSE: {mse}, MAE: {mae}, R-squared: {r2}\")\n",
    "\n",
    "# Save the best model to a file\n",
    "model_filename = '2nd_xgboost_best_model.pkl'\n",
    "joblib.dump(best_model, model_filename)\n",
    "print(f\"Best model saved as {model_filename}.\")\n"
   ]
  },
  {
   "cell_type": "code",
   "execution_count": null,
   "metadata": {},
   "outputs": [],
   "source": []
  },
  {
   "cell_type": "code",
   "execution_count": null,
   "metadata": {},
   "outputs": [],
   "source": []
  },
  {
   "cell_type": "code",
   "execution_count": null,
   "metadata": {},
   "outputs": [],
   "source": []
  },
  {
   "cell_type": "code",
   "execution_count": null,
   "metadata": {},
   "outputs": [],
   "source": []
  },
  {
   "cell_type": "code",
   "execution_count": null,
   "metadata": {},
   "outputs": [],
   "source": []
  },
  {
   "cell_type": "code",
   "execution_count": null,
   "metadata": {},
   "outputs": [],
   "source": []
  },
  {
   "cell_type": "code",
   "execution_count": null,
   "metadata": {},
   "outputs": [],
   "source": []
  },
  {
   "cell_type": "code",
   "execution_count": 4,
   "metadata": {},
   "outputs": [],
   "source": [
    "imputer = SimpleImputer(strategy='mean')\n",
    "df_combined.fillna(0, inplace=True)\n"
   ]
  },
  {
   "cell_type": "code",
   "execution_count": 5,
   "metadata": {},
   "outputs": [],
   "source": [
    "features = ['Age', 'Gender', 'BP', 'Cholesterol', 'Heart Rate', 'Glucose', 'Insulin', 'BMI']\n",
    "df_combined['Heart_Disease'] = df_combined.get('Heart_Disease', 0)\n",
    "df_combined['Diabetes'] = df_combined.get('Diabetes', 0)\n",
    "df_combined['Stroke'] = df_combined.get('Stroke', 0)\n",
    "df_combined['Fatty_Liver'] = df_combined.get('Fatty_Liver', 0)\n",
    "df_combined['Metabolic_Syndrome'] = df_combined.get('Metabolic_Syndrome', 0)\n",
    "df_combined['Hypertension'] = df_combined.get('Hypertension', 0)\n"
   ]
  },
  {
   "cell_type": "code",
   "execution_count": 8,
   "metadata": {},
   "outputs": [
    {
     "name": "stdout",
     "output_type": "stream",
     "text": [
      "Model saved as random_forest_model.pkl.\n"
     ]
    }
   ],
   "source": [
    "import joblib\n",
    "from sklearn.ensemble import RandomForestRegressor\n",
    "y = df_combined[['Heart_Disease', 'Diabetes', 'Stroke', 'Fatty_Liver', 'Metabolic_Syndrome', 'Hypertension']]\n",
    "\n",
    "# Handling categorical features (if any) and encoding\n",
    "X = df_combined[features]\n",
    "\n",
    "# Split the data into training and testing sets\n",
    "X_train, X_test, y_train, y_test = train_test_split(X, y, test_size=0.2, random_state=42)\n",
    "\n",
    "# Train a Random Forest model for multi-label classification\n",
    "model = RandomForestRegressor()\n",
    "model.fit(X_train, y_train)\n",
    "\n",
    "\n",
    "# Save the trained model to a file\n",
    "model_filename = 'random_forest_model.pkl'\n",
    "joblib.dump(model, model_filename)\n",
    "print(f\"Model saved as {model_filename}.\")\n"
   ]
  },
  {
   "cell_type": "code",
   "execution_count": 12,
   "metadata": {},
   "outputs": [
    {
     "name": "stdout",
     "output_type": "stream",
     "text": [
      "Mean Squared Error (MSE): 0.0450\n",
      "Mean Absolute Error (MAE): 0.0899\n",
      "R² Score: 0.5540\n"
     ]
    }
   ],
   "source": [
    "from sklearn.metrics import mean_squared_error, mean_absolute_error, r2_score\n",
    "\n",
    "# Predict on the test set\n",
    "y_pred = model.predict(X_test)\n",
    "\n",
    "# Evaluate the model using regression metrics\n",
    "mse = mean_squared_error(y_test, y_pred)\n",
    "mae = mean_absolute_error(y_test, y_pred)\n",
    "r2 = r2_score(y_test, y_pred)\n",
    "\n",
    "print(f'Mean Squared Error (MSE): {mse:.4f}')\n",
    "print(f'Mean Absolute Error (MAE): {mae:.4f}')\n",
    "print(f'R² Score: {r2:.4f}')\n"
   ]
  },
  {
   "cell_type": "code",
   "execution_count": 13,
   "metadata": {},
   "outputs": [
    {
     "name": "stdout",
     "output_type": "stream",
     "text": [
      "{'Heart Disease': True, 'Diabetes': False, 'Stroke': False, 'Fatty Liver': False, 'Metabolic Syndrome': False, 'Hypertension': True}\n"
     ]
    }
   ],
   "source": [
    "# Function to predict diseases based on user input using regression\n",
    "def predict_diseases(user_input, threshold=0.5):\n",
    "    # Convert user input to DataFrame\n",
    "    user_df = pd.DataFrame([user_input])\n",
    "    \n",
    "    # Handle missing values if any\n",
    "    user_df.fillna(0, inplace=True)\n",
    "    \n",
    "    # Make predictions (continuous values)\n",
    "    prediction = model.predict(user_df[features])\n",
    "    \n",
    "    # Map prediction results to disease names with a threshold\n",
    "    diseases = ['Heart Disease', 'Diabetes', 'Stroke', 'Fatty Liver', 'Metabolic Syndrome', 'Hypertension']\n",
    "    predicted_diseases = {disease: bool(pred > threshold) for disease, pred in zip(diseases, prediction[0])}\n",
    "    \n",
    "    return predicted_diseases\n",
    "\n",
    "# Example user input\n",
    "user_input = {\n",
    "    'Age': 65,\n",
    "    'Gender': 1,       # 1 for Male, 0 for Female (or as per your dataset encoding)\n",
    "    'BP': 130,         # Blood Pressure\n",
    "    'Cholesterol': 250,\n",
    "    'Heart Rate': 80,\n",
    "    'Glucose': 100,\n",
    "    'Insulin': 30,\n",
    "    'BMI': 25\n",
    "}\n",
    "\n",
    "# Predict diseases based on user input\n",
    "result = predict_diseases(user_input)\n",
    "print(result)\n"
   ]
  },
  {
   "cell_type": "code",
   "execution_count": 14,
   "metadata": {},
   "outputs": [
    {
     "name": "stdout",
     "output_type": "stream",
     "text": [
      "{'Heart Disease': 1.0, 'Diabetes': 0.0, 'Stroke': 0.0, 'Fatty Liver': 0.0, 'Metabolic Syndrome': 0.48417557455081783, 'Hypertension': 1.0}\n"
     ]
    }
   ],
   "source": [
    "# Function to predict diseases based on user input using regression\n",
    "def predict_diseases(user_input):\n",
    "    # Convert user input to DataFrame\n",
    "    user_df = pd.DataFrame([user_input])\n",
    "    \n",
    "    # Handle missing values if any\n",
    "    user_df.fillna(0, inplace=True)\n",
    "    \n",
    "    # Make predictions (continuous values)\n",
    "    prediction = model.predict(user_df[features])\n",
    "    \n",
    "    # Map prediction results to disease names\n",
    "    diseases = ['Heart Disease', 'Diabetes', 'Stroke', 'Fatty Liver', 'Metabolic Syndrome', 'Hypertension']\n",
    "    predicted_diseases = {disease: pred for disease, pred in zip(diseases, prediction[0])}\n",
    "    \n",
    "    # predicted_diseases = {disease: bool(pred > threshold) for disease, pred in zip(diseases, prediction[0])}\n",
    "\n",
    "    \n",
    "    return predicted_diseases\n",
    "\n",
    "# Example user input\n",
    "user_input = {\n",
    "    'Age': 65,\n",
    "    'Gender': 1,       # 1 for Male, 0 for Female (or as per your dataset encoding)\n",
    "    'BP': 130,         # Blood Pressure\n",
    "    'Cholesterol': 250,\n",
    "    'Heart Rate': 80,\n",
    "    'Glucose': 100,\n",
    "    'Insulin': 30,\n",
    "    'BMI': 25\n",
    "}\n",
    "\n",
    "# Predict diseases based on user input\n",
    "result = predict_diseases(user_input)\n",
    "print(result)\n"
   ]
  },
  {
   "cell_type": "code",
   "execution_count": null,
   "metadata": {},
   "outputs": [],
   "source": []
  },
  {
   "cell_type": "code",
   "execution_count": null,
   "metadata": {},
   "outputs": [],
   "source": []
  },
  {
   "cell_type": "code",
   "execution_count": null,
   "metadata": {},
   "outputs": [],
   "source": []
  },
  {
   "cell_type": "code",
   "execution_count": null,
   "metadata": {},
   "outputs": [],
   "source": []
  },
  {
   "cell_type": "code",
   "execution_count": null,
   "metadata": {},
   "outputs": [],
   "source": []
  },
  {
   "cell_type": "code",
   "execution_count": null,
   "metadata": {},
   "outputs": [],
   "source": []
  }
 ],
 "metadata": {
  "kernelspec": {
   "display_name": "Python 3",
   "language": "python",
   "name": "python3"
  },
  "language_info": {
   "codemirror_mode": {
    "name": "ipython",
    "version": 3
   },
   "file_extension": ".py",
   "mimetype": "text/x-python",
   "name": "python",
   "nbconvert_exporter": "python",
   "pygments_lexer": "ipython3",
   "version": "3.12.4"
  }
 },
 "nbformat": 4,
 "nbformat_minor": 2
}
